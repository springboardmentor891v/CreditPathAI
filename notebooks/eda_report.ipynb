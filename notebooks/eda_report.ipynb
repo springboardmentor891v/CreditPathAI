{
 "cells": [
  {
   "cell_type": "markdown",
   "id": "a60ff655",
   "metadata": {},
   "source": [
    " EDA Report for loan data\n",
    "\n",
    "infosys project-CreditPathA"
   ]
  },
  {
   "cell_type": "code",
   "execution_count": null,
   "id": "2ddd715a",
   "metadata": {},
   "outputs": [],
   "source": [
    "\n",
    "import pandas as pd\n",
    "import numpy as np\n",
    "import matplotlib.pyplot as plt\n",
    "import seaborn as sns\n",
    "\n",
    "# Set plot style for better visuals\n",
    "sns.set_style('whitegrid')"
   ]
  },
  {
   "cell_type": "code",
   "execution_count": null,
   "id": "7676d010",
   "metadata": {},
   "outputs": [],
   "source": [
    "# Cell 2: Load the Dataset\n",
    "# Note the path is relative to the root of the project directory\n",
    "df = pd.read_csv('../Loan_default.csv')"
   ]
  },
  {
   "cell_type": "markdown",
   "id": "270233ac",
   "metadata": {},
   "source": [
    "looking at the data first"
   ]
  },
  {
   "cell_type": "code",
   "execution_count": null,
   "id": "6cf34d0d",
   "metadata": {},
   "outputs": [],
   "source": [
    "# Basic Information\n",
    "print(\"Data Shape:\")\n",
    "print(df.shape)\n",
    "print(\"\\nData Info:\")\n",
    "df.info()"
   ]
  },
  {
   "cell_type": "code",
   "execution_count": null,
   "id": "ea569d3c",
   "metadata": {},
   "outputs": [],
   "source": [
    "\n",
    "df.head()"
   ]
  },
  {
   "cell_type": "markdown",
   "id": "1057dd5f",
   "metadata": {},
   "source": [
    " cleaning up the data"
   ]
  },
  {
   "cell_type": "code",
   "execution_count": null,
   "id": "1324950a",
   "metadata": {},
   "outputs": [],
   "source": [
    "# Cell 5: Check for Duplicate Rows\n",
    "print(f\"Number of duplicate rows: {df.duplicated().sum()}\")"
   ]
  },
  {
   "cell_type": "code",
   "execution_count": null,
   "id": "bba8360f",
   "metadata": {},
   "outputs": [],
   "source": [
    "# Cell 6: Drop Redundant Columns\n",
    "# LoanID is a unique identifier and not useful for prediction.\n",
    "df = df.drop('LoanID', axis=1)\n",
    "print(\"Dropped 'LoanID' column.\")"
   ]
  },
  {
   "cell_type": "markdown",
   "id": "e1873943",
   "metadata": {},
   "source": [
    " exploring the data\n",
    "\n"
   ]
  },
  {
   "cell_type": "code",
   "execution_count": null,
   "id": "2de5c552",
   "metadata": {},
   "outputs": [],
   "source": [
    "# Cell 7: Numerical Summary\n",
    "print(\"Summary statistics for numerical columns:\")\n",
    "display(df.describe().T)"
   ]
  },
  {
   "cell_type": "code",
   "execution_count": null,
   "id": "07c36e4e",
   "metadata": {},
   "outputs": [],
   "source": [
    "# Cell 8: Categorical Summary\n",
    "print(\"\\nSummary statistics for categorical columns:\")\n",
    "display(df.describe(include=['object']).T)"
   ]
  },
  {
   "cell_type": "code",
   "execution_count": null,
   "id": "88d204d0",
   "metadata": {},
   "outputs": [],
   "source": [
    "\n",
    "numerical_cols = df.select_dtypes(include=np.number).columns\n",
    "for col in numerical_cols:\n",
    "    plt.figure(figsize=(10, 5))\n",
    "    sns.histplot(df[col], kde=True, bins=30)\n",
    "    plt.title(f'Distribution of {col}')\n",
    "    plt.show()"
   ]
  },
  {
   "cell_type": "markdown",
   "id": "f2564f0e",
   "metadata": {},
   "source": [
    "### correlation between features"
   ]
  },
  {
   "cell_type": "code",
   "execution_count": null,
   "id": "e15993e5",
   "metadata": {},
   "outputs": [],
   "source": [
    "#  Generate and display the correlation heatmap\n",
    "plt.figure(figsize=(12, 8))\n",
    "corr = df[numerical_cols].corr()\n",
    "sns.heatmap(corr, annot=True, cmap='coolwarm', fmt=\".2f\")\n",
    "plt.title(\"Correlation Heatmap of Numerical Features\")\n",
    "plt.show()"
   ]
  },
  {
   "cell_type": "markdown",
   "id": "78d886df",
   "metadata": {},
   "source": [
    "### checking for outliers"
   ]
  },
  {
   "cell_type": "code",
   "execution_count": null,
   "id": "5a3be525",
   "metadata": {},
   "outputs": [],
   "source": [
    "\n",
    "numerical_cols_for_outliers = numerical_cols.drop('Default')\n",
    "\n",
    "for col in numerical_cols_for_outliers:\n",
    "    plt.figure(figsize=(10, 5))\n",
    "    sns.boxplot(x=df[col])\n",
    "    plt.title(f'Boxplot for {col}')\n",
    "    plt.show()"
   ]
  },
  {
   "cell_type": "markdown",
   "id": "f2b4402f",
   "metadata": {},
   "source": [
    "### missing values check"
   ]
  },
  {
   "cell_type": "code",
   "execution_count": null,
   "id": "9e5c1738",
   "metadata": {},
   "outputs": [],
   "source": [
    "# Cell 12: Check for missing values\n",
    "print(\"Count of missing values per column:\")\n",
    "print(df.isnull().sum())\n"
   ]
  }
 ],
 "metadata": {
  "language_info": {
   "name": "python"
  }
 },
 "nbformat": 4,
 "nbformat_minor": 5
}
