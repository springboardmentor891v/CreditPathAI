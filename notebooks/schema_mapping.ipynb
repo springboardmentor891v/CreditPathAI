{
 "cells": [
  {
   "cell_type": "code",
   "execution_count": 2,
   "id": "ccd677d0",
   "metadata": {},
   "outputs": [
    {
     "name": "stdout",
     "output_type": "stream",
     "text": [
      "Schema map saved as docs/schema_map.csv\n"
     ]
    }
   ],
   "source": [
    "import pandas as pd\n",
    "\n",
    "kaggle_df = pd.read_csv(\"../data/loan_default.csv\")\n",
    "\n",
    "# Create schema map\n",
    "schema_map = pd.DataFrame({\n",
    "    \"Column Name\": kaggle_df.columns,\n",
    "    \"Data Type\": [str(dtype) for dtype in kaggle_df.dtypes],\n",
    "    \"Business Description\": [\n",
    "        \"Unique identifier for each loan\",\n",
    "        \"Age of borrower in years\",\n",
    "        \"Annual income of borrower\",\n",
    "        \"Total loan amount applied for\",\n",
    "        \"Borrower's credit score\",\n",
    "        \"Number of months the borrower has been employed\",\n",
    "        \"Number of active credit lines borrower holds\",\n",
    "        \"Interest rate (%) applied on the loan\",\n",
    "        \"Loan term in months\",\n",
    "        \"Debt-to-Income ratio\",\n",
    "        \"Education level (High School, Bachelor's, Master's)\",\n",
    "        \"Type of employment (Full-time, Unemployed, etc.)\",\n",
    "        \"Marital status of borrower (Married, Divorced, etc.)\",\n",
    "        \"Whether borrower has an existing mortgage (Yes/No)\",\n",
    "        \"Whether borrower has dependents (Yes/No)\",\n",
    "        \"Purpose of loan (Auto, Business, Other, etc.)\",\n",
    "        \"Whether loan has a co-signer (Yes/No)\",\n",
    "        \"Loan default status (1 = Defaulted, 0 = Not Defaulted)\"\n",
    "    ]\n",
    "})\n",
    "\n",
    "# Save schema map as CSV\n",
    "schema_map.to_csv(\"../docs/schema_map.csv\", index=False)\n",
    "\n",
    "print(\"Schema map saved as docs/schema_map.csv\")\n"
   ]
  },
  {
   "cell_type": "code",
   "execution_count": null,
   "id": "1eff0275",
   "metadata": {},
   "outputs": [],
   "source": []
  }
 ],
 "metadata": {
  "kernelspec": {
   "display_name": "Python 3",
   "language": "python",
   "name": "python3"
  },
  "language_info": {
   "codemirror_mode": {
    "name": "ipython",
    "version": 3
   },
   "file_extension": ".py",
   "mimetype": "text/x-python",
   "name": "python",
   "nbconvert_exporter": "python",
   "pygments_lexer": "ipython3",
   "version": "3.12.0"
  }
 },
 "nbformat": 4,
 "nbformat_minor": 5
}
